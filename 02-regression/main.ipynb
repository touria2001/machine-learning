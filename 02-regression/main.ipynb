{
 "cells": [
  {
   "cell_type": "code",
   "execution_count": 64,
   "id": "b8963e4b-9368-4068-be34-e3654bb844f9",
   "metadata": {},
   "outputs": [],
   "source": [
    "import pandas as pd\n",
    "import numpy as np"
   ]
  },
  {
   "cell_type": "code",
   "execution_count": 65,
   "id": "da64675d-9fd2-48c7-aa2e-7378a1a319a2",
   "metadata": {},
   "outputs": [],
   "source": [
    "df = pd.read_csv('laptops.csv')"
   ]
  },
  {
   "cell_type": "code",
   "execution_count": 66,
   "id": "8511dea7-55b9-49f6-a7f2-2a2c78d20c00",
   "metadata": {},
   "outputs": [
    {
     "data": {
      "text/html": [
       "<div>\n",
       "<style scoped>\n",
       "    .dataframe tbody tr th:only-of-type {\n",
       "        vertical-align: middle;\n",
       "    }\n",
       "\n",
       "    .dataframe tbody tr th {\n",
       "        vertical-align: top;\n",
       "    }\n",
       "\n",
       "    .dataframe thead th {\n",
       "        text-align: right;\n",
       "    }\n",
       "</style>\n",
       "<table border=\"1\" class=\"dataframe\">\n",
       "  <thead>\n",
       "    <tr style=\"text-align: right;\">\n",
       "      <th></th>\n",
       "      <th>Laptop</th>\n",
       "      <th>Status</th>\n",
       "      <th>Brand</th>\n",
       "      <th>Model</th>\n",
       "      <th>CPU</th>\n",
       "      <th>RAM</th>\n",
       "      <th>Storage</th>\n",
       "      <th>Storage type</th>\n",
       "      <th>GPU</th>\n",
       "      <th>Screen</th>\n",
       "      <th>Touch</th>\n",
       "      <th>Final Price</th>\n",
       "    </tr>\n",
       "  </thead>\n",
       "  <tbody>\n",
       "    <tr>\n",
       "      <th>0</th>\n",
       "      <td>ASUS ExpertBook B1 B1502CBA-EJ0436X Intel Core...</td>\n",
       "      <td>New</td>\n",
       "      <td>Asus</td>\n",
       "      <td>ExpertBook</td>\n",
       "      <td>Intel Core i5</td>\n",
       "      <td>8</td>\n",
       "      <td>512</td>\n",
       "      <td>SSD</td>\n",
       "      <td>NaN</td>\n",
       "      <td>15.6</td>\n",
       "      <td>No</td>\n",
       "      <td>1009.00</td>\n",
       "    </tr>\n",
       "    <tr>\n",
       "      <th>1</th>\n",
       "      <td>Alurin Go Start Intel Celeron N4020/8GB/256GB ...</td>\n",
       "      <td>New</td>\n",
       "      <td>Alurin</td>\n",
       "      <td>Go</td>\n",
       "      <td>Intel Celeron</td>\n",
       "      <td>8</td>\n",
       "      <td>256</td>\n",
       "      <td>SSD</td>\n",
       "      <td>NaN</td>\n",
       "      <td>15.6</td>\n",
       "      <td>No</td>\n",
       "      <td>299.00</td>\n",
       "    </tr>\n",
       "    <tr>\n",
       "      <th>2</th>\n",
       "      <td>ASUS ExpertBook B1 B1502CBA-EJ0424X Intel Core...</td>\n",
       "      <td>New</td>\n",
       "      <td>Asus</td>\n",
       "      <td>ExpertBook</td>\n",
       "      <td>Intel Core i3</td>\n",
       "      <td>8</td>\n",
       "      <td>256</td>\n",
       "      <td>SSD</td>\n",
       "      <td>NaN</td>\n",
       "      <td>15.6</td>\n",
       "      <td>No</td>\n",
       "      <td>789.00</td>\n",
       "    </tr>\n",
       "    <tr>\n",
       "      <th>3</th>\n",
       "      <td>MSI Katana GF66 12UC-082XES Intel Core i7-1270...</td>\n",
       "      <td>New</td>\n",
       "      <td>MSI</td>\n",
       "      <td>Katana</td>\n",
       "      <td>Intel Core i7</td>\n",
       "      <td>16</td>\n",
       "      <td>1000</td>\n",
       "      <td>SSD</td>\n",
       "      <td>RTX 3050</td>\n",
       "      <td>15.6</td>\n",
       "      <td>No</td>\n",
       "      <td>1199.00</td>\n",
       "    </tr>\n",
       "    <tr>\n",
       "      <th>4</th>\n",
       "      <td>HP 15S-FQ5085NS Intel Core i5-1235U/16GB/512GB...</td>\n",
       "      <td>New</td>\n",
       "      <td>HP</td>\n",
       "      <td>15S</td>\n",
       "      <td>Intel Core i5</td>\n",
       "      <td>16</td>\n",
       "      <td>512</td>\n",
       "      <td>SSD</td>\n",
       "      <td>NaN</td>\n",
       "      <td>15.6</td>\n",
       "      <td>No</td>\n",
       "      <td>669.01</td>\n",
       "    </tr>\n",
       "    <tr>\n",
       "      <th>...</th>\n",
       "      <td>...</td>\n",
       "      <td>...</td>\n",
       "      <td>...</td>\n",
       "      <td>...</td>\n",
       "      <td>...</td>\n",
       "      <td>...</td>\n",
       "      <td>...</td>\n",
       "      <td>...</td>\n",
       "      <td>...</td>\n",
       "      <td>...</td>\n",
       "      <td>...</td>\n",
       "      <td>...</td>\n",
       "    </tr>\n",
       "    <tr>\n",
       "      <th>2155</th>\n",
       "      <td>Razer Blade 17 FHD 360Hz Intel Core i7-11800H/...</td>\n",
       "      <td>Refurbished</td>\n",
       "      <td>Razer</td>\n",
       "      <td>Blade</td>\n",
       "      <td>Intel Core i7</td>\n",
       "      <td>16</td>\n",
       "      <td>1000</td>\n",
       "      <td>SSD</td>\n",
       "      <td>RTX 3060</td>\n",
       "      <td>17.3</td>\n",
       "      <td>No</td>\n",
       "      <td>2699.99</td>\n",
       "    </tr>\n",
       "    <tr>\n",
       "      <th>2156</th>\n",
       "      <td>Razer Blade 17 FHD 360Hz Intel Core i7-11800H/...</td>\n",
       "      <td>Refurbished</td>\n",
       "      <td>Razer</td>\n",
       "      <td>Blade</td>\n",
       "      <td>Intel Core i7</td>\n",
       "      <td>16</td>\n",
       "      <td>1000</td>\n",
       "      <td>SSD</td>\n",
       "      <td>RTX 3070</td>\n",
       "      <td>17.3</td>\n",
       "      <td>No</td>\n",
       "      <td>2899.99</td>\n",
       "    </tr>\n",
       "    <tr>\n",
       "      <th>2157</th>\n",
       "      <td>Razer Blade 17 FHD 360Hz Intel Core i7-11800H/...</td>\n",
       "      <td>Refurbished</td>\n",
       "      <td>Razer</td>\n",
       "      <td>Blade</td>\n",
       "      <td>Intel Core i7</td>\n",
       "      <td>32</td>\n",
       "      <td>1000</td>\n",
       "      <td>SSD</td>\n",
       "      <td>RTX 3080</td>\n",
       "      <td>17.3</td>\n",
       "      <td>No</td>\n",
       "      <td>3399.99</td>\n",
       "    </tr>\n",
       "    <tr>\n",
       "      <th>2158</th>\n",
       "      <td>Razer Book 13 Intel Evo Core i7-1165G7/16GB/1T...</td>\n",
       "      <td>Refurbished</td>\n",
       "      <td>Razer</td>\n",
       "      <td>Book</td>\n",
       "      <td>Intel Evo Core i7</td>\n",
       "      <td>16</td>\n",
       "      <td>1000</td>\n",
       "      <td>SSD</td>\n",
       "      <td>NaN</td>\n",
       "      <td>13.4</td>\n",
       "      <td>Yes</td>\n",
       "      <td>1899.99</td>\n",
       "    </tr>\n",
       "    <tr>\n",
       "      <th>2159</th>\n",
       "      <td>Razer Book FHD+ Intel Evo Core i7-1165G7/16GB/...</td>\n",
       "      <td>Refurbished</td>\n",
       "      <td>Razer</td>\n",
       "      <td>Book</td>\n",
       "      <td>Intel Evo Core i7</td>\n",
       "      <td>16</td>\n",
       "      <td>256</td>\n",
       "      <td>SSD</td>\n",
       "      <td>NaN</td>\n",
       "      <td>13.4</td>\n",
       "      <td>Yes</td>\n",
       "      <td>1699.99</td>\n",
       "    </tr>\n",
       "  </tbody>\n",
       "</table>\n",
       "<p>2160 rows × 12 columns</p>\n",
       "</div>"
      ],
      "text/plain": [
       "                                                 Laptop       Status   Brand  \\\n",
       "0     ASUS ExpertBook B1 B1502CBA-EJ0436X Intel Core...          New    Asus   \n",
       "1     Alurin Go Start Intel Celeron N4020/8GB/256GB ...          New  Alurin   \n",
       "2     ASUS ExpertBook B1 B1502CBA-EJ0424X Intel Core...          New    Asus   \n",
       "3     MSI Katana GF66 12UC-082XES Intel Core i7-1270...          New     MSI   \n",
       "4     HP 15S-FQ5085NS Intel Core i5-1235U/16GB/512GB...          New      HP   \n",
       "...                                                 ...          ...     ...   \n",
       "2155  Razer Blade 17 FHD 360Hz Intel Core i7-11800H/...  Refurbished   Razer   \n",
       "2156  Razer Blade 17 FHD 360Hz Intel Core i7-11800H/...  Refurbished   Razer   \n",
       "2157  Razer Blade 17 FHD 360Hz Intel Core i7-11800H/...  Refurbished   Razer   \n",
       "2158  Razer Book 13 Intel Evo Core i7-1165G7/16GB/1T...  Refurbished   Razer   \n",
       "2159  Razer Book FHD+ Intel Evo Core i7-1165G7/16GB/...  Refurbished   Razer   \n",
       "\n",
       "           Model                CPU  RAM  Storage Storage type       GPU  \\\n",
       "0     ExpertBook      Intel Core i5    8      512          SSD       NaN   \n",
       "1             Go      Intel Celeron    8      256          SSD       NaN   \n",
       "2     ExpertBook      Intel Core i3    8      256          SSD       NaN   \n",
       "3         Katana      Intel Core i7   16     1000          SSD  RTX 3050   \n",
       "4            15S      Intel Core i5   16      512          SSD       NaN   \n",
       "...          ...                ...  ...      ...          ...       ...   \n",
       "2155       Blade      Intel Core i7   16     1000          SSD  RTX 3060   \n",
       "2156       Blade      Intel Core i7   16     1000          SSD  RTX 3070   \n",
       "2157       Blade      Intel Core i7   32     1000          SSD  RTX 3080   \n",
       "2158        Book  Intel Evo Core i7   16     1000          SSD       NaN   \n",
       "2159        Book  Intel Evo Core i7   16      256          SSD       NaN   \n",
       "\n",
       "      Screen Touch  Final Price  \n",
       "0       15.6    No      1009.00  \n",
       "1       15.6    No       299.00  \n",
       "2       15.6    No       789.00  \n",
       "3       15.6    No      1199.00  \n",
       "4       15.6    No       669.01  \n",
       "...      ...   ...          ...  \n",
       "2155    17.3    No      2699.99  \n",
       "2156    17.3    No      2899.99  \n",
       "2157    17.3    No      3399.99  \n",
       "2158    13.4   Yes      1899.99  \n",
       "2159    13.4   Yes      1699.99  \n",
       "\n",
       "[2160 rows x 12 columns]"
      ]
     },
     "execution_count": 66,
     "metadata": {},
     "output_type": "execute_result"
    }
   ],
   "source": [
    "df"
   ]
  },
  {
   "cell_type": "code",
   "execution_count": 67,
   "id": "de87969c-3a39-47da-817c-439cbcd405d2",
   "metadata": {},
   "outputs": [],
   "source": [
    "df.columns = df.columns.str.lower().str.replace(' ', '_')"
   ]
  },
  {
   "cell_type": "code",
   "execution_count": 68,
   "id": "045c3bf8-86f5-4d4b-be44-d115ceec1219",
   "metadata": {},
   "outputs": [
    {
     "data": {
      "text/html": [
       "<div>\n",
       "<style scoped>\n",
       "    .dataframe tbody tr th:only-of-type {\n",
       "        vertical-align: middle;\n",
       "    }\n",
       "\n",
       "    .dataframe tbody tr th {\n",
       "        vertical-align: top;\n",
       "    }\n",
       "\n",
       "    .dataframe thead th {\n",
       "        text-align: right;\n",
       "    }\n",
       "</style>\n",
       "<table border=\"1\" class=\"dataframe\">\n",
       "  <thead>\n",
       "    <tr style=\"text-align: right;\">\n",
       "      <th></th>\n",
       "      <th>ram</th>\n",
       "      <th>storage</th>\n",
       "      <th>screen</th>\n",
       "      <th>final_price</th>\n",
       "    </tr>\n",
       "  </thead>\n",
       "  <tbody>\n",
       "    <tr>\n",
       "      <th>0</th>\n",
       "      <td>8</td>\n",
       "      <td>512</td>\n",
       "      <td>15.6</td>\n",
       "      <td>1009.00</td>\n",
       "    </tr>\n",
       "    <tr>\n",
       "      <th>1</th>\n",
       "      <td>8</td>\n",
       "      <td>256</td>\n",
       "      <td>15.6</td>\n",
       "      <td>299.00</td>\n",
       "    </tr>\n",
       "    <tr>\n",
       "      <th>2</th>\n",
       "      <td>8</td>\n",
       "      <td>256</td>\n",
       "      <td>15.6</td>\n",
       "      <td>789.00</td>\n",
       "    </tr>\n",
       "    <tr>\n",
       "      <th>3</th>\n",
       "      <td>16</td>\n",
       "      <td>1000</td>\n",
       "      <td>15.6</td>\n",
       "      <td>1199.00</td>\n",
       "    </tr>\n",
       "    <tr>\n",
       "      <th>4</th>\n",
       "      <td>16</td>\n",
       "      <td>512</td>\n",
       "      <td>15.6</td>\n",
       "      <td>669.01</td>\n",
       "    </tr>\n",
       "    <tr>\n",
       "      <th>...</th>\n",
       "      <td>...</td>\n",
       "      <td>...</td>\n",
       "      <td>...</td>\n",
       "      <td>...</td>\n",
       "    </tr>\n",
       "    <tr>\n",
       "      <th>2155</th>\n",
       "      <td>16</td>\n",
       "      <td>1000</td>\n",
       "      <td>17.3</td>\n",
       "      <td>2699.99</td>\n",
       "    </tr>\n",
       "    <tr>\n",
       "      <th>2156</th>\n",
       "      <td>16</td>\n",
       "      <td>1000</td>\n",
       "      <td>17.3</td>\n",
       "      <td>2899.99</td>\n",
       "    </tr>\n",
       "    <tr>\n",
       "      <th>2157</th>\n",
       "      <td>32</td>\n",
       "      <td>1000</td>\n",
       "      <td>17.3</td>\n",
       "      <td>3399.99</td>\n",
       "    </tr>\n",
       "    <tr>\n",
       "      <th>2158</th>\n",
       "      <td>16</td>\n",
       "      <td>1000</td>\n",
       "      <td>13.4</td>\n",
       "      <td>1899.99</td>\n",
       "    </tr>\n",
       "    <tr>\n",
       "      <th>2159</th>\n",
       "      <td>16</td>\n",
       "      <td>256</td>\n",
       "      <td>13.4</td>\n",
       "      <td>1699.99</td>\n",
       "    </tr>\n",
       "  </tbody>\n",
       "</table>\n",
       "<p>2160 rows × 4 columns</p>\n",
       "</div>"
      ],
      "text/plain": [
       "      ram  storage  screen  final_price\n",
       "0       8      512    15.6      1009.00\n",
       "1       8      256    15.6       299.00\n",
       "2       8      256    15.6       789.00\n",
       "3      16     1000    15.6      1199.00\n",
       "4      16      512    15.6       669.01\n",
       "...   ...      ...     ...          ...\n",
       "2155   16     1000    17.3      2699.99\n",
       "2156   16     1000    17.3      2899.99\n",
       "2157   32     1000    17.3      3399.99\n",
       "2158   16     1000    13.4      1899.99\n",
       "2159   16      256    13.4      1699.99\n",
       "\n",
       "[2160 rows x 4 columns]"
      ]
     },
     "execution_count": 68,
     "metadata": {},
     "output_type": "execute_result"
    }
   ],
   "source": [
    "df = df[['ram','storage','screen','final_price']]\n",
    "df"
   ]
  },
  {
   "cell_type": "markdown",
   "id": "2b87eb0f-ce80-4b41-82de-04b9200b81e3",
   "metadata": {},
   "source": [
    "# EDA "
   ]
  },
  {
   "cell_type": "markdown",
   "id": "ce54ef3a-06ef-4397-808a-98cc7ed928de",
   "metadata": {},
   "source": [
    "#### Look at the final_price variable. Does it have a long tail?"
   ]
  },
  {
   "cell_type": "code",
   "execution_count": 69,
   "id": "04d219c2-d52a-421c-b069-e9a49d15cb33",
   "metadata": {},
   "outputs": [],
   "source": [
    "import matplotlib.pyplot as plt\n",
    "import seaborn as sns\n",
    "%matplotlib inline"
   ]
  },
  {
   "cell_type": "code",
   "execution_count": 70,
   "id": "529ede4d-b5de-4353-8914-fa952e82e1d0",
   "metadata": {},
   "outputs": [
    {
     "data": {
      "text/plain": [
       "<Axes: xlabel='final_price', ylabel='Count'>"
      ]
     },
     "execution_count": 70,
     "metadata": {},
     "output_type": "execute_result"
    },
    {
     "data": {
      "image/png": "[encoded data removed]",
      "text/plain": [
       "<Figure size 640x480 with 1 Axes>"
      ]
     },
     "metadata": {},
     "output_type": "display_data"
    }
   ],
   "source": [
    "sns.histplot(df.final_price)"
   ]
  },
  {
   "cell_type": "code",
   "execution_count": 71,
   "id": "566b3e56-462d-4aa5-ad3d-e0af1ba02713",
   "metadata": {},
   "outputs": [
    {
     "data": {
      "text/plain": [
       "<Axes: xlabel='final_price', ylabel='Count'>"
      ]
     },
     "execution_count": 71,
     "metadata": {},
     "output_type": "execute_result"
    },
    {
     "data": {
      "image/png": "[encoded data removed]",
      "text/plain": [
       "<Figure size 640x480 with 1 Axes>"
      ]
     },
     "metadata": {},
     "output_type": "display_data"
    }
   ],
   "source": [
    "sns.histplot(df.final_price[df.final_price > 5000])"
   ]
  },
  {
   "cell_type": "code",
   "execution_count": 72,
   "id": "3b6c384e-a3d9-4db4-8d67-b875a337bb71",
   "metadata": {},
   "outputs": [],
   "source": [
    "#No, it doesn't have a long tail since there are very few laptops priced above 5000."
   ]
  },
  {
   "cell_type": "markdown",
   "id": "48a8c705-c26b-44f6-83a8-295fb4d50544",
   "metadata": {},
   "source": [
    "#### Q1. There's one column with missing values. What is it?"
   ]
  },
  {
   "cell_type": "code",
   "execution_count": 73,
   "id": "55b7a97c-8d93-42e6-a164-a68f9c48674b",
   "metadata": {},
   "outputs": [
    {
     "data": {
      "text/plain": [
       "ram            0\n",
       "storage        0\n",
       "screen         4\n",
       "final_price    0\n",
       "dtype: int64"
      ]
     },
     "execution_count": 73,
     "metadata": {},
     "output_type": "execute_result"
    }
   ],
   "source": [
    "df.isnull().sum()"
   ]
  },
  {
   "cell_type": "code",
   "execution_count": 74,
   "id": "78040044-dbcd-4be7-9ddd-e1a2a232f362",
   "metadata": {},
   "outputs": [],
   "source": [
    "#screen has missing values"
   ]
  },
  {
   "cell_type": "markdown",
   "id": "f40feea2-fd58-44eb-899d-2be4fe24b713",
   "metadata": {},
   "source": [
    "#### Q2. What's the median (50% percentile) for variable 'ram'?"
   ]
  },
  {
   "cell_type": "code",
   "execution_count": 75,
   "id": "b61184ba-6043-4c4e-892d-79b3a67d8e34",
   "metadata": {},
   "outputs": [
    {
     "data": {
      "text/plain": [
       "np.float64(16.0)"
      ]
     },
     "execution_count": 75,
     "metadata": {},
     "output_type": "execute_result"
    }
   ],
   "source": [
    "df.ram.median()"
   ]
  },
  {
   "cell_type": "code",
   "execution_count": 76,
   "id": "90ff3bf6-391e-45d4-a880-9a29d7b07f22",
   "metadata": {},
   "outputs": [],
   "source": [
    "# 16 is the median of the variable ram"
   ]
  },
  {
   "cell_type": "markdown",
   "id": "aa9cd7d4-2749-414c-be2b-ac8efa8bcfe2",
   "metadata": {},
   "source": [
    "# Prepare and split the dataset"
   ]
  },
  {
   "cell_type": "code",
   "execution_count": 77,
   "id": "a2c2c6bc-81c5-4466-a90a-fa9554eb3a23",
   "metadata": {},
   "outputs": [],
   "source": [
    "n = df.shape[0]\n",
    "n_val = int(n *0.2)\n",
    "n_test = int(n* 0.2)\n",
    "n_train = n - n_val - n_test"
   ]
  },
  {
   "cell_type": "code",
   "execution_count": 78,
   "id": "dd8061bf-8040-4ed7-9490-6faa67b7d396",
   "metadata": {},
   "outputs": [
    {
     "data": {
      "text/plain": [
       "array([   0,    1,    2, ..., 2157, 2158, 2159])"
      ]
     },
     "execution_count": 78,
     "metadata": {},
     "output_type": "execute_result"
    }
   ],
   "source": [
    "idx = np.arange(n)\n",
    "idx"
   ]
  },
  {
   "cell_type": "code",
   "execution_count": 79,
   "id": "41cfd5a2-2711-49e3-bc11-59effe7f637d",
   "metadata": {},
   "outputs": [],
   "source": [
    "np.random.seed(42)\n",
    "np.random.shuffle(idx)"
   ]
  },
  {
   "cell_type": "code",
   "execution_count": 80,
   "id": "3937ab78-0d42-435c-adb9-4e6316a2c41a",
   "metadata": {},
   "outputs": [],
   "source": [
    "df_train = df.iloc[idx[:n_train]]\n",
    "df_val = df.iloc[idx[n_train:n_train+n_val]]\n",
    "df_test = df.iloc[idx[n_train+n_val:]]\n",
    "# final price train\n",
    "final_price_train = df_train.final_price\n",
    "# final price val\n",
    "final_price_val = df_val.final_price"
   ]
  },
  {
   "cell_type": "markdown",
   "id": "ce13b7be-f9e4-4bba-a646-5bba7900ebb3",
   "metadata": {},
   "source": [
    "# Q3"
   ]
  },
  {
   "cell_type": "markdown",
   "id": "913c0a9f-0690-46a7-b9ec-13866f3e4bda",
   "metadata": {},
   "source": [
    "#### Calculate mean of train dataset"
   ]
  },
  {
   "cell_type": "code",
   "execution_count": 81,
   "id": "eacf9cc8-433b-41d0-9915-d1ba780a51bd",
   "metadata": {},
   "outputs": [
    {
     "data": {
      "text/plain": [
       "np.float64(15.163534416086618)"
      ]
     },
     "execution_count": 81,
     "metadata": {},
     "output_type": "execute_result"
    }
   ],
   "source": [
    "mean_train = df_train.screen.mean()\n",
    "mean_train"
   ]
  },
  {
   "cell_type": "markdown",
   "id": "d1170804-9f62-4c4f-a61b-b73f829ae7ec",
   "metadata": {},
   "source": [
    "#### Calculate mean of validation dataset"
   ]
  },
  {
   "cell_type": "code",
   "execution_count": 82,
   "id": "687e1f2f-d82b-48fa-9ffc-632b61916946",
   "metadata": {},
   "outputs": [
    {
     "data": {
      "text/plain": [
       "np.float64(15.149883990719259)"
      ]
     },
     "execution_count": 82,
     "metadata": {},
     "output_type": "execute_result"
    }
   ],
   "source": [
    "mean_val = df_val.screen.mean()\n",
    "mean_val"
   ]
  },
  {
   "cell_type": "code",
   "execution_count": 83,
   "id": "2b7a9f9f-cd90-4556-bdad-7f3fb979c299",
   "metadata": {},
   "outputs": [],
   "source": [
    "def prepare_X(X, fillna_value):\n",
    "    X = X.fillna(fillna_value)\n",
    "    X =  np.delete(X, 3, axis = 1)\n",
    "    return X\n",
    "def linear_regression(X,Y):\n",
    "    ones = np.ones(X.shape[0])\n",
    "    X = np.column_stack([ones, X])\n",
    "    XTX = X.T.dot(X)\n",
    "    XTX_inv = np.linalg.inv(XTX)     \n",
    "    return XTX_inv.dot(X.T).dot(Y).reshape(-1,1)  \n",
    "def predict_Y(X,W):\n",
    "    return W[0]+X.dot(W[1:])\n",
    "def RMSE(Y_train, Y):\n",
    "    error = Y_train - Y\n",
    "    mse = (error ** 2).mean()\n",
    "    return round(np.sqrt(mse),2)"
   ]
  },
  {
   "cell_type": "markdown",
   "id": "d6f01407-8e5c-4fbc-8b59-06a918dc3fcb",
   "metadata": {},
   "source": [
    "#### with 0"
   ]
  },
  {
   "cell_type": "code",
   "execution_count": 84,
   "id": "5b68b40e-4036-4fc4-8b4a-f8bc84029f7a",
   "metadata": {},
   "outputs": [
    {
     "data": {
      "text/plain": [
       "np.float64(1082.4)"
      ]
     },
     "execution_count": 84,
     "metadata": {},
     "output_type": "execute_result"
    }
   ],
   "source": [
    "df_train_zero = prepare_X(df_train,0)\n",
    "df_val_zero = prepare_X(df_val,0)\n",
    "#train using linear regression with 0\n",
    "W_zero = linear_regression(df_train_zero,final_price_train)\n",
    "#predict for validation dataset for zero \n",
    "predicted_y_zero_val = predict_Y(df_val_zero,W_zero)\n",
    "#calculat RMSE zero val\n",
    "RMSE(np.array(predicted_y_zero_val),np.array(final_price_val))\n"
   ]
  },
  {
   "cell_type": "markdown",
   "id": "a9b0c251-7427-4502-b399-bcbfcd911b10",
   "metadata": {},
   "source": [
    "#### with mean"
   ]
  },
  {
   "cell_type": "code",
   "execution_count": 85,
   "id": "b53159fe-578c-4e23-9ee6-c581a3d25871",
   "metadata": {},
   "outputs": [
    {
     "data": {
      "text/plain": [
       "np.float64(1082.13)"
      ]
     },
     "execution_count": 85,
     "metadata": {},
     "output_type": "execute_result"
    }
   ],
   "source": [
    "df_train_mean = prepare_X(df_train,mean_train)\n",
    "df_val_mean  = prepare_X(df_val,mean_val)\n",
    "#train using linear regression with mean\n",
    "W_mean = linear_regression(df_train_mean,final_price_train)\n",
    "#predict for validation dataset for mean \n",
    "predicted_y_mean_val = predict_Y(df_val_mean,W_mean)\n",
    "#calculat RMSE mean val\n",
    "RMSE(np.array(predicted_y_mean_val),np.array(final_price_val))"
   ]
  },
  {
   "cell_type": "markdown",
   "id": "33420328-296a-4946-956e-c330aa4ad893",
   "metadata": {},
   "source": [
    "#### RMSE gives better RMSE"
   ]
  },
  {
   "cell_type": "markdown",
   "id": "705459d8-5916-4768-8f16-4ad877dcd189",
   "metadata": {},
   "source": [
    "# Q4 train regularized linear regression"
   ]
  },
  {
   "cell_type": "code",
   "execution_count": 86,
   "id": "997b0652-1429-42b3-beba-bf1abf668361",
   "metadata": {},
   "outputs": [],
   "source": [
    "def linear_regression_regularized(X,Y,r):\n",
    "    ones = np.ones(X.shape[0])\n",
    "    X = np.column_stack([ones, X])\n",
    "    XTX = X.T.dot(X)\n",
    "    REG_XTX = XTX+r*np.eye(XTX.shape[0])\n",
    "    XTX_inv = np.linalg.inv(REG_XTX)     \n",
    "    return XTX_inv.dot(X.T).dot(Y).reshape(-1,1)"
   ]
  },
  {
   "cell_type": "code",
   "execution_count": 87,
   "id": "3195cc27-fcb3-44ba-adcd-744c91908320",
   "metadata": {},
   "outputs": [
    {
     "name": "stdout",
     "output_type": "stream",
     "text": [
      "1082.4\n",
      "1082.4\n",
      "1082.42\n",
      "1082.59\n",
      "1083.23\n",
      "1083.79\n",
      "1085.6\n"
     ]
    }
   ],
   "source": [
    "reg_arr = [0, 0.01, 0.1, 1, 5, 10, 100]\n",
    "for i in reg_arr:\n",
    "    W = linear_regression_regularized(df_train_zero,final_price_train,i)   \n",
    "    Y = predict_Y(df_val_zero, W)\n",
    "    print(RMSE(np.array(Y),np.array(final_price_val)))"
   ]
  },
  {
   "cell_type": "markdown",
   "id": "e83fd4c2-570c-4815-a0ae-0a7c16f170fa",
   "metadata": {},
   "source": [
    "#### 0 and 0.01 gives best RMSE"
   ]
  },
  {
   "cell_type": "markdown",
   "id": "cd710d0d-6573-410d-90cb-42e83c62f4e3",
   "metadata": {},
   "source": [
    "# Q5 train with different seed"
   ]
  },
  {
   "cell_type": "code",
   "execution_count": 88,
   "id": "c2de85bb-f18d-425b-94e9-16a881953117",
   "metadata": {
    "scrolled": true
   },
   "outputs": [
    {
     "name": "stdout",
     "output_type": "stream",
     "text": [
      "1155.36\n",
      "1096.82\n",
      "1161.51\n",
      "1085.81\n",
      "1187.34\n",
      "1197.86\n",
      "1164.55\n",
      "1227.92\n",
      "1149.69\n",
      "1184.22\n"
     ]
    }
   ],
   "source": [
    "seed_arr = [0, 1, 2, 3, 4, 5, 6, 7, 8, 9]\n",
    "RMSE_arr =[]\n",
    "\n",
    "for i in seed_arr:    \n",
    "    np.random.seed(i)\n",
    "    np.random.shuffle(idx)\n",
    "    df_train = df.iloc[idx[:n_train]]\n",
    "    df_val = df.iloc[idx[n_train:n_train+n_val]]\n",
    "    df_test = df.iloc[idx[n_train+n_val:]]\n",
    "    \n",
    "    # final price\n",
    "    final_price_train = df_train.final_price\n",
    "    final_price_val = df_val.final_price\n",
    "\n",
    "    df_train_zero = prepare_X(df_train,0)\n",
    "    df_val_zero = prepare_X(df_val,0)\n",
    "    \n",
    "    \n",
    "    W_zero = linear_regression(df_train_zero,final_price_train)\n",
    "    predicted_y_zero_val = predict_Y(df_val_zero,W_zero)\n",
    "    RMSE_val = RMSE(np.array(predicted_y_zero_val),np.array(final_price_val))\n",
    "    RMSE_arr.append(RMSE_val)\n",
    "    print(RMSE_val)\n",
    "   "
   ]
  },
  {
   "cell_type": "code",
   "execution_count": 90,
   "id": "d10eb09a-0bf1-499c-97a4-acb4c0a829d9",
   "metadata": {},
   "outputs": [
    {
     "data": {
      "text/plain": [
       "np.float64(41.249)"
      ]
     },
     "execution_count": 90,
     "metadata": {},
     "output_type": "execute_result"
    }
   ],
   "source": [
    "std = np.std(RMSE_arr)\n",
    "round(std, 3)"
   ]
  },
  {
   "cell_type": "markdown",
   "id": "29e458c5-db30-41b3-9315-d0f0e8c331c0",
   "metadata": {},
   "source": [
    "#### The value of std is near to 39.176"
   ]
  },
  {
   "cell_type": "markdown",
   "id": "415e63d5-72ab-4150-a7ff-d1da0d88c9d7",
   "metadata": {},
   "source": [
    "# Q6 "
   ]
  },
  {
   "cell_type": "code",
   "execution_count": 92,
   "id": "bb5a861b-0b75-4e2a-81e9-f636facc99a6",
   "metadata": {},
   "outputs": [
    {
     "data": {
      "text/plain": [
       "np.float64(1088.99)"
      ]
     },
     "execution_count": 92,
     "metadata": {},
     "output_type": "execute_result"
    }
   ],
   "source": [
    "np.random.seed(9)\n",
    "np.random.shuffle(idx)\n",
    "\n",
    "df_train = df.iloc[idx[:n_train]]\n",
    "df_val = df.iloc[idx[n_train:n_train+n_val]]\n",
    "df_test = df.iloc[idx[n_train+n_val:]]\n",
    "df_full_train = pd.concat([df_train,df_val])\n",
    "\n",
    "# final price\n",
    "final_price_train = df_full_train.final_price\n",
    "final_price_test = df_test.final_price\n",
    "\n",
    "df_train_zero = prepare_X(df_full_train,0)\n",
    "df_test_zero = prepare_X(df_test,0)\n",
    "\n",
    "W_zero = linear_regression(df_train_zero,final_price_train)\n",
    "predicted_y_zero_test = predict_Y(df_test_zero,W_zero)\n",
    "RMSE(np.array(predicted_y_zero_test),np.array(final_price_test))"
   ]
  },
  {
   "cell_type": "code",
   "execution_count": null,
   "id": "d06cbe01-7bb8-441a-95ca-508ddd5daa46",
   "metadata": {},
   "outputs": [],
   "source": []
  }
 ],
 "metadata": {
  "kernelspec": {
   "display_name": "Python 3 (ipykernel)",
   "language": "python",
   "name": "python3"
  },
  "language_info": {
   "codemirror_mode": {
    "name": "ipython",
    "version": 3
   },
   "file_extension": ".py",
   "mimetype": "text/x-python",
   "name": "python",
   "nbconvert_exporter": "python",
   "pygments_lexer": "ipython3",
   "version": "3.12.1"
  }
 },
 "nbformat": 4,
 "nbformat_minor": 5
}
